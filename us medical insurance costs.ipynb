{
 "cells": [
  {
   "cell_type": "markdown",
   "id": "85571812-4e35-4692-8c4f-9b397adc50f7",
   "metadata": {},
   "source": [
    "# U.S. Medical Insurance Costs\n",
    "In this project, a CSV file with medical insurance costs will be investigated using Python fundamentals. The goal of this project will be to analyse various attributes within **insurance.csv** to learn more about the patient information in the file and gain insight into potential use cases for the dataset."
   ]
  },
  {
   "cell_type": "code",
   "execution_count": 5,
   "id": "fd665c25-4c23-44a8-8d06-247370656693",
   "metadata": {},
   "outputs": [],
   "source": [
    "# import csv library\n",
    "import csv"
   ]
  },
  {
   "cell_type": "markdown",
   "id": "a0fe2291-bb09-47c6-bd2e-b71142d0fa56",
   "metadata": {},
   "source": [
    "There are other potential libraries that could help with this project; however, for this analysis, I will be only using the csv module"
   ]
  },
  {
   "cell_type": "markdown",
   "id": "b9805e10-ce35-4b0a-9d37-a386df685bdc",
   "metadata": {},
   "source": [
    "**insurance.csv** contains the following columns:\n",
    "* Patient Age\n",
    "* Patient Sex \n",
    "* Patient BMI\n",
    "* Patient Number of Children\n",
    "* Patient Smoking Status\n",
    "* Patient U.S Geopraphical Region\n",
    "* Patient Yearly Medical Insurance Cost\n",
    "\n",
    "There are no signs of missing data."
   ]
  },
  {
   "cell_type": "code",
   "execution_count": 9,
   "id": "af4c22a6-edd4-4095-bc6f-08bd3de83d89",
   "metadata": {},
   "outputs": [],
   "source": [
    "# Loading data from insurance.csv to Python using a function\n",
    "def load_csv_data(csv_file):\n",
    "    data_dict = {} # dictionary to store all column names as keys and lists as values\n",
    "    with open(csv_file, newline='') as csv_info:\n",
    "        csv_dict = csv.DictReader(csv_info)\n",
    "\n",
    "        #initialise empty lists to store data in columns\n",
    "        for column in csv_dict.fieldnames:\n",
    "            data_dict[column] = []\n",
    "\n",
    "        #read and store data in respective lists\n",
    "        for row in csv_dict:\n",
    "            for column in csv_dict.fieldnames:\n",
    "                data_dict[column].append(row[column])\n",
    "\n",
    "    #convert numeric columns to float\n",
    "        numeric_columns = ['age', 'bmi', 'children', 'charges']\n",
    "        for column in numeric_columns:\n",
    "            if column in data_dict: # ensure column exist\n",
    "                data_dict[column] = [float(x) for x in data_dict[column]]\n",
    "\n",
    "        return data_dict # return dictionary with all column names\n",
    "                \n",
    "# load data    \n",
    "insurance_data = load_csv_data('insurance.csv')\n",
    "\n",
    "# accessing specific columns\n",
    "ages = insurance_data['age']\n",
    "sexes = insurance_data['sex']\n",
    "bmis = insurance_data['bmi']\n",
    "num_children = insurance_data['children']\n",
    "smoker_statuses = insurance_data['smoker']\n",
    "regions = insurance_data['region']\n",
    "insurance_charges = insurance_data['charges']"
   ]
  },
  {
   "cell_type": "markdown",
   "id": "c452da8a-1197-4065-8c14-6a59beffed3b",
   "metadata": {},
   "source": [
    "# Classes and Functions"
   ]
  },
  {
   "cell_type": "markdown",
   "id": "74f51133-48f9-4302-bdef-8fa02fb1af40",
   "metadata": {},
   "source": [
    "## Class with Descriptive Statistics\n",
    "Finding summary statistics"
   ]
  },
  {
   "cell_type": "code",
   "execution_count": 13,
   "id": "0b11f897-1fa1-4570-a113-0884cbba8a88",
   "metadata": {},
   "outputs": [
    {
     "name": "stdout",
     "output_type": "stream",
     "text": [
      "Report for Age descriptive statistics: \n",
      "Average Age: 39.21\n",
      "Minimum Age: 18.0\n",
      "Maximum Age: 64.0\n",
      "Median Age: 39.0\n",
      "Report for BMI descriptive statistics: \n",
      "Average BMI: 30.66\n",
      "Minimum BMI: 15.96\n",
      "Maximum BMI: 53.13\n",
      "Median BMI: 30.4\n",
      "Report for Number of Children descriptive statistics: \n",
      "Average Number of Children: 1.09\n",
      "Minimum Number of Children: 0.0\n",
      "Maximum Number of Children: 5.0\n",
      "Median Number of Children: 1.0\n",
      "Report for Insurance Charges descriptive statistics: \n",
      "Average Insurance Charges: 13270.42\n",
      "Minimum Insurance Charges: 1121.8739\n",
      "Maximum Insurance Charges: 63770.42801\n",
      "Median Insurance Charges: 9382.033\n"
     ]
    }
   ],
   "source": [
    "class DescriptiveStats:\n",
    "# Finding the average, min, max and median\n",
    "    def __init__(self, data, name):\n",
    "        self.data = data\n",
    "        self.name = name #name of the dataset, e.g., 'Age', 'BMI'\n",
    "\n",
    "    def find_avg(self):\n",
    "        return sum(self.data) / len(self.data)\n",
    "\n",
    "    def find_min(self):\n",
    "        return min(self.data)\n",
    "\n",
    "    def find_max(self):\n",
    "        return max(self.data)\n",
    "\n",
    "    def find_median(self):\n",
    "        sorted_data = sorted(self.data)\n",
    "        mid = len(sorted_data) // 2\n",
    "        if len(sorted_data) % 2 == 0: \n",
    "            return (sorted_data[mid-1] + sorted_data[mid]) / 2\n",
    "        return sorted_data[mid]\n",
    "\n",
    "# Defining a function that will produce a report\n",
    "    def report(self):\n",
    "        avg = self.find_avg()\n",
    "        min_value = self.find_min()\n",
    "        max_value = self.find_max()\n",
    "        median = self.find_median()\n",
    "\n",
    "        print(f\"Report for {self.name} descriptive statistics: \")\n",
    "        print(f\"Average {self.name}: {avg:.2f}\")  # 2 decimal places\n",
    "        print(f\"Minimum {self.name}: {min_value}\")\n",
    "        print(f\"Maximum {self.name}: {max_value}\")\n",
    "        print(f\"Median {self.name}: {median}\")\n",
    "\n",
    "age_stats = DescriptiveStats(ages, \"Age\")\n",
    "age_stats.report()\n",
    "\n",
    "bmi_stats = DescriptiveStats(bmis, \"BMI\")\n",
    "bmi_stats.report()\n",
    "\n",
    "children_stats = DescriptiveStats(num_children, \"Number of Children\")\n",
    "children_stats.report()\n",
    "\n",
    "charges_stats = DescriptiveStats(insurance_charges, \"Insurance Charges\")\n",
    "charges_stats.report()"
   ]
  },
  {
   "cell_type": "markdown",
   "id": "071f4e74-150c-4407-bf0c-d4677d7a3ca0",
   "metadata": {},
   "source": [
    "## Class with Groups \n",
    "To analyze how different factors influence insurance costs, we group patients by age, sex, smoking status, region, and number of children"
   ]
  },
  {
   "cell_type": "code",
   "execution_count": 16,
   "id": "5719b42c-b763-4c54-be99-80363bd765e1",
   "metadata": {},
   "outputs": [
    {
     "name": "stdout",
     "output_type": "stream",
     "text": [
      "\n",
      "Grouping Report for Age:\n",
      "18-19: 137 people\n",
      "20-29: 280 people\n",
      "30-39: 257 people\n",
      "40-49: 279 people\n",
      "50-59: 271 people\n",
      "60+: 114 people\n",
      "\n",
      "Grouping Report for Sex:\n",
      "Female: 662 people\n",
      "Male: 676 people\n",
      "\n",
      "Grouping Report for Smoker Status:\n",
      "Smoker: 274 people\n",
      "Non-Smoker: 1064 people\n",
      "\n",
      "Grouping Report for Number of Children:\n",
      "0: 574 people\n",
      "1: 324 people\n",
      "2: 240 people\n",
      "3+: 200 people\n",
      "\n",
      "Grouping Report for Region:\n",
      "NorthEast: 324 people\n",
      "NorthWest: 325 people\n",
      "SouthEast: 364 people\n",
      "SouthWest: 325 people\n"
     ]
    }
   ],
   "source": [
    "class Groups:\n",
    "    # Grouping by age, sex, number of children, smoker status and region\n",
    "    def __init__(self, data, name):\n",
    "        self.data = data\n",
    "        self.name = name #name of the dataset\n",
    "\n",
    "    def group_by_age(self):\n",
    "        age_groups = {\"18-19\": [], \"20-29\": [], \"30-39\": [], \"40-49\": [], \"50-59\": [], \"60+\": []}\n",
    "        for age in self.data:\n",
    "            if age >= 18 and age <= 19: age_groups[\"18-19\"].append(age),\n",
    "            elif age >= 20 and age <= 29: age_groups[\"20-29\"].append(age),\n",
    "            elif age >= 30 and age <= 39: age_groups[\"30-39\"].append(age),\n",
    "            elif age >= 40 and age <= 49: age_groups[\"40-49\"].append(age),\n",
    "            elif age >= 50 and age <= 59: age_groups[\"50-59\"].append(age),\n",
    "            else: age_groups[\"60+\"].append(age)\n",
    "                \n",
    "        return age_groups\n",
    "\n",
    "    \n",
    "    def group_by_sex(self):\n",
    "        sex_groups = {\"Female\": [], \"Male\": []}\n",
    "        for sex in self.data:\n",
    "            if sex.lower() == 'female': \n",
    "                sex_groups[\"Female\"].append(sex)\n",
    "            elif sex.lower() == 'male': \n",
    "                sex_groups[\"Male\"].append(sex)\n",
    "                \n",
    "        return sex_groups\n",
    "\n",
    "    \n",
    "    def group_by_num_children(self):\n",
    "        children_groups = {\"0\": [], \"1\": [], \"2\": [], \"3+\": []}\n",
    "        for num_children in self.data:\n",
    "            if num_children == 0:\n",
    "                children_groups[\"0\"].append(num_children)\n",
    "            elif num_children == 1:\n",
    "                children_groups[\"1\"].append(num_children)\n",
    "            elif num_children == 2:\n",
    "                children_groups[\"2\"].append(num_children)\n",
    "            else:\n",
    "                children_groups[\"3+\"].append(num_children)\n",
    "\n",
    "        return children_groups\n",
    "\n",
    "\n",
    "    def group_by_smoker_status(self):\n",
    "        smoker_groups = {\"Smoker\": [], \"Non-Smoker\": []}\n",
    "        for item in self.data:\n",
    "            if item == \"yes\": smoker_groups[\"Smoker\"].append(item)                              \n",
    "            else: smoker_groups[\"Non-Smoker\"].append(item)  \n",
    "                \n",
    "        return smoker_groups\n",
    "\n",
    "\n",
    "    def group_by_region(self):\n",
    "        regions = {\"NorthEast\": [], \"NorthWest\": [], \"SouthEast\": [], \"SouthWest\": []}\n",
    "        for region in self.data:\n",
    "            if region == \"northeast\": \n",
    "                regions[\"NorthEast\"].append(region)\n",
    "            elif region == \"northwest\": \n",
    "                regions[\"NorthWest\"].append(region)\n",
    "            elif region == \"southeast\": \n",
    "                regions[\"SouthEast\"].append(region)                                                             \n",
    "            else: \n",
    "                regions[\"SouthWest\"].append(region) \n",
    "                \n",
    "        return regions\n",
    "\n",
    "    \n",
    "    # Defining a function that will produce a report\n",
    "    def report(self, group_function):\n",
    "        # print a summary of group sizes\n",
    "        grouped_data = group_function()\n",
    "        print(f\"\\nGrouping Report for {self.name}:\")\n",
    "        for group, items in grouped_data.items():\n",
    "            print(f\"{group}: {len(items)} people\")\n",
    "\n",
    "age_groups = Groups(ages, \"Age\")\n",
    "age_data = age_groups.group_by_age() #dictionary name\n",
    "age_groups.report(age_groups.group_by_age)\n",
    "\n",
    "sex_groups = Groups(sexes, \"Sex\")\n",
    "sex_data = sex_groups.group_by_sex() # dictionary name\n",
    "sex_groups.report(sex_groups.group_by_sex)\n",
    "\n",
    "smoker_groups = Groups(smoker_statuses, \"Smoker Status\")\n",
    "smoking_data = smoker_groups.group_by_smoker_status() # dictionary name\n",
    "smoker_groups.report(smoker_groups.group_by_smoker_status)\n",
    "\n",
    "children_groups = Groups(num_children, \"Number of Children\")\n",
    "children_data = children_groups.group_by_num_children()\n",
    "children_groups.report(children_groups.group_by_num_children)\n",
    "\n",
    "regions = Groups(regions, \"Region\")\n",
    "regions_data = regions.group_by_region() # dictionary name\n",
    "regions.report(regions.group_by_region)\n"
   ]
  },
  {
   "cell_type": "markdown",
   "id": "d1a8c245-7aa9-4c01-9d05-46f105abfc03",
   "metadata": {},
   "source": [
    "# Analysis\n",
    "## Drawing insights\n",
    "\n",
    "There are a number of ways in which this dataset could be further explored. I will focus on answering three basic questions and one a little bit more advanced:\n",
    "\n",
    "First, I create a dictionary with all patients' data based on their ID numbers.\n",
    "\n",
    "**Basic questions**:\n",
    "- Where is the majority of people in this dataset from?\n",
    "- What is the difference in insurance costs between smokers and non-smokers?\n",
    "- What is the average age of someone who has at least 1 child?\n",
    "\n",
    "**Additional question**:\n",
    "- What region has the lowest insurance charges for a young female (aged 20-29)?"
   ]
  },
  {
   "cell_type": "markdown",
   "id": "c91ca82f-d819-4b16-8cd5-88e17bf9bcde",
   "metadata": {},
   "source": [
    "### Create a dictionary with all patients' data based on their ID numbers"
   ]
  },
  {
   "cell_type": "code",
   "execution_count": 20,
   "id": "493c97d5-9874-4c46-8589-12130b3c343e",
   "metadata": {},
   "outputs": [
    {
     "name": "stdout",
     "output_type": "stream",
     "text": [
      "{'age': 19.0, 'sex': 'female', 'bmi': 27.9, 'children': 0.0, 'smoker': 'yes', 'region': 'southwest', 'charges': 16884.924}\n"
     ]
    }
   ],
   "source": [
    "patients_data = {}\n",
    "\n",
    "# Using row index as the unique patient ID\n",
    "for i in range(len(insurance_data['age'])):\n",
    "    patient_id = i + 1  # add 1 so the IDs start from 1, not 0\n",
    "    patients_data[patient_id] = {\n",
    "        'age': insurance_data['age'][i],\n",
    "        'sex': insurance_data['sex'][i],\n",
    "        'bmi': insurance_data['bmi'][i],\n",
    "        'children': insurance_data['children'][i],\n",
    "        'smoker': insurance_data['smoker'][i],\n",
    "        'region': insurance_data['region'][i],\n",
    "        'charges': insurance_data['charges'][i]\n",
    "    }\n",
    "\n",
    "# To print the data for the patient with ID 1:\n",
    "print(patients_data[1])\n",
    "\n",
    "# To print all patients' data\n",
    "import pprint\n",
    "\n",
    "# Uncomment the line below to see the full list: \n",
    "#pprint.pprint(patients_data)"
   ]
  },
  {
   "cell_type": "markdown",
   "id": "d3f97f5a-e948-47e2-a459-57a3adffd403",
   "metadata": {},
   "source": [
    "### Where is the majority of people in this dataset from?"
   ]
  },
  {
   "cell_type": "code",
   "execution_count": 23,
   "id": "0fd7e59b-8e6c-454a-aab0-ea48dbe992e7",
   "metadata": {},
   "outputs": [
    {
     "name": "stdout",
     "output_type": "stream",
     "text": [
      "The majority of poeple in this dataset are from the SouthEast, with 364 people.\n"
     ]
    }
   ],
   "source": [
    "# regions_data - dictionary was already created \n",
    "\n",
    "# Finding the regions with the majority of people\n",
    "majority_region = max(regions_data, key=lambda region: len(regions_data[region]))\n",
    "\n",
    "# Getting the number of people:\n",
    "majority_count = len(regions_data[majority_region])\n",
    "\n",
    "# Printing the result\n",
    "print(f\"The majority of poeple in this dataset are from the {majority_region}, with {majority_count} people.\")"
   ]
  },
  {
   "cell_type": "markdown",
   "id": "e15630f8-77d3-47bc-9219-a1a2a6f6aa7d",
   "metadata": {},
   "source": [
    "### What is the difference in insurance costs between smokers and non-smokers?"
   ]
  },
  {
   "cell_type": "code",
   "execution_count": 26,
   "id": "7e79e152-fe62-45db-8cdb-fed21012a08d",
   "metadata": {},
   "outputs": [
    {
     "name": "stdout",
     "output_type": "stream",
     "text": [
      "Average charge for smokers: 32050.23\n",
      "Average charge for non-smokers: 8434.27\n",
      "Difference in charges: 23615.96\n"
     ]
    }
   ],
   "source": [
    "# smoking_data - this dictionary was already created in Groups class\n",
    "\n",
    "smoker_status = smoking_data\n",
    "\n",
    "# Extracting the insurance charges that correspond to smokers and non-smokers\n",
    "smokers_charges = []\n",
    "non_smokers_charges = []\n",
    "\n",
    "for i in range(len(smoker_statuses)):\n",
    "    if smoker_statuses[i] == \"yes\":  # if the person is a smoker\n",
    "        smokers_charges.append(insurance_charges[i])  # add their charge to the smokers list\n",
    "    else:\n",
    "        non_smokers_charges.append(insurance_charges[i])  # add their charge to the non-smokers list\n",
    "\n",
    "\n",
    "# Calculating the average charge for smokers\n",
    "avg_smoker_charge = sum(smokers_charges) / len(smokers_charges)\n",
    "\n",
    "# Calculating the average charge for non-smokers\n",
    "avg_non_smoker_charge = sum(non_smokers_charges) / len(non_smokers_charges)\n",
    "\n",
    "# Calculating the difference\n",
    "charge_difference = avg_smoker_charge - avg_non_smoker_charge\n",
    "\n",
    "# Printing the results\n",
    "print(f\"Average charge for smokers: {avg_smoker_charge:.2f}\")\n",
    "print(f\"Average charge for non-smokers: {avg_non_smoker_charge:.2f}\")\n",
    "print(f\"Difference in charges: {charge_difference:.2f}\")"
   ]
  },
  {
   "cell_type": "markdown",
   "id": "4f5cf979-75f5-4753-ba95-b85a84e7a512",
   "metadata": {},
   "source": [
    "### What is the average age of someone who has at least 1 child?"
   ]
  },
  {
   "cell_type": "code",
   "execution_count": 29,
   "id": "0a120a9b-dfde-4801-96cd-4b9d76dd3751",
   "metadata": {},
   "outputs": [
    {
     "name": "stdout",
     "output_type": "stream",
     "text": [
      "Average age of patients with at least one child: 39.78\n"
     ]
    }
   ],
   "source": [
    "# Accessing ages of people who have at least one child using the dictionary with all patients' data\n",
    "def get_age_with_children(patients_data):\n",
    "   return [patient['age'] for patient in patients_data.values() if patient['children'] >= 1]\n",
    "\n",
    "# Passing the result to DescriptiveStats class to calculate the average\n",
    "# 1. Getting the ages of patients with at least one child from the function above\n",
    "ages_with_children = get_age_with_children(patients_data)\n",
    "\n",
    "# 2. Creating an instance of DescriptiveStats using the filtered data \n",
    "age_stats_with_children = DescriptiveStats(ages_with_children, \"Age of Patients with At Least One Child\")\n",
    "\n",
    "# 3. Calling the average function\n",
    "average_age = age_stats_with_children.find_avg()\n",
    "\n",
    "# 4. Printing the result\n",
    "print(f\"Average age of patients with at least one child: {average_age:.2f}\")\n"
   ]
  },
  {
   "cell_type": "markdown",
   "id": "d5438a8d-3be4-4bc0-88f3-deeae325e60a",
   "metadata": {},
   "source": [
    "_**Improvement suggestion**: Make this function reusable, so that the average age could be easily calculated for other conditions._ "
   ]
  },
  {
   "cell_type": "markdown",
   "id": "d5162caf-7b6e-45a4-be25-ff3bdea11f95",
   "metadata": {},
   "source": [
    "### What region has the lowest insurance charges for a young female (aged 20-29)?\n",
    "This analysis can help understand which regions have lower healthcare costs for young females, possibly due to regional health trends or cost of care."
   ]
  },
  {
   "cell_type": "code",
   "execution_count": 33,
   "id": "5ac9dfb3-89d0-43a4-92c5-29bd4cef2027",
   "metadata": {},
   "outputs": [
    {
     "name": "stdout",
     "output_type": "stream",
     "text": [
      "The region with the lowest insurance charges for young females (aged 20-29) is: northwest\n"
     ]
    }
   ],
   "source": [
    "# Filtering the data for young females aged 20-29\n",
    "young_females_data = [\n",
    "    patient for patient in patients_data.values()\n",
    "    if patient['sex'] == 'female' and 20 <= patient['age'] <= 29\n",
    "]\n",
    "\n",
    "# Grouping the data by region\n",
    "region_charges = {}\n",
    "for patient in young_females_data:\n",
    "    region = patient['region']\n",
    "    charge = patient['charges']\n",
    "    \n",
    "    # Grouping charges by region\n",
    "    if region not in region_charges:\n",
    "        region_charges[region] = []\n",
    "    region_charges[region].append(charge)\n",
    "\n",
    "# Calculating the average charges for each region\n",
    "average_charges = {region: sum(charges) / len(charges) for region, charges in region_charges.items()}\n",
    "\n",
    "# Finding the region with the lowest average charge\n",
    "lowest_charge_region = min(average_charges, key=average_charges.get)\n",
    "\n",
    "print(f\"The region with the lowest insurance charges for young females (aged 20-29) is: {lowest_charge_region}\")\n"
   ]
  },
  {
   "cell_type": "markdown",
   "id": "eb0afdec-9669-4fb3-8be1-1268d13a3706",
   "metadata": {},
   "source": [
    "_**Improvement suggestion**: Using Groups Class to group by region_"
   ]
  },
  {
   "cell_type": "code",
   "execution_count": null,
   "id": "93a132f1-6b84-45c2-a573-c622a18dd282",
   "metadata": {},
   "outputs": [],
   "source": []
  }
 ],
 "metadata": {
  "kernelspec": {
   "display_name": "Python [conda env:base] *",
   "language": "python",
   "name": "conda-base-py"
  },
  "language_info": {
   "codemirror_mode": {
    "name": "ipython",
    "version": 3
   },
   "file_extension": ".py",
   "mimetype": "text/x-python",
   "name": "python",
   "nbconvert_exporter": "python",
   "pygments_lexer": "ipython3",
   "version": "3.12.7"
  }
 },
 "nbformat": 4,
 "nbformat_minor": 5
}
